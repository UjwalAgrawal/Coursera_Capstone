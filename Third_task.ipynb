{
 "cells": [
  {
   "cell_type": "markdown",
   "metadata": {},
   "source": [
    "### importing the required libraries"
   ]
  },
  {
   "cell_type": "code",
   "execution_count": 3,
   "metadata": {},
   "outputs": [
    {
     "name": "stdout",
     "output_type": "stream",
     "text": [
      "Collecting geocoder\n",
      "  Downloading geocoder-1.38.1-py2.py3-none-any.whl (98 kB)\n",
      "Collecting ratelim\n",
      "  Downloading ratelim-0.1.6-py2.py3-none-any.whl (4.0 kB)\n",
      "Requirement already satisfied: six in c:\\users\\os\\anaconda3\\lib\\site-packages (from geocoder) (1.15.0)\n",
      "Requirement already satisfied: click in c:\\users\\os\\anaconda3\\lib\\site-packages (from geocoder) (7.1.2)\n",
      "Requirement already satisfied: future in c:\\users\\os\\anaconda3\\lib\\site-packages (from geocoder) (0.18.2)\n",
      "Requirement already satisfied: requests in c:\\users\\os\\anaconda3\\lib\\site-packages (from geocoder) (2.24.0)\n",
      "Requirement already satisfied: decorator in c:\\users\\os\\anaconda3\\lib\\site-packages (from ratelim->geocoder) (4.4.2)\n",
      "Requirement already satisfied: chardet<4,>=3.0.2 in c:\\users\\os\\anaconda3\\lib\\site-packages (from requests->geocoder) (3.0.4)\n",
      "Requirement already satisfied: urllib3!=1.25.0,!=1.25.1,<1.26,>=1.21.1 in c:\\users\\os\\anaconda3\\lib\\site-packages (from requests->geocoder) (1.25.9)\n",
      "Requirement already satisfied: idna<3,>=2.5 in c:\\users\\os\\anaconda3\\lib\\site-packages (from requests->geocoder) (2.9)\n",
      "Requirement already satisfied: certifi>=2017.4.17 in c:\\users\\os\\anaconda3\\lib\\site-packages (from requests->geocoder) (2020.6.20)\n",
      "Installing collected packages: ratelim, geocoder\n",
      "Successfully installed geocoder-1.38.1 ratelim-0.1.6\n"
     ]
    }
   ],
   "source": [
    "import numpy as np\n",
    "import pandas as pd\n",
    "# Matplotlib and associated plotting modules\n",
    "import matplotlib.cm as cm\n",
    "import matplotlib.colors as colors\n",
    "\n",
    "# import k-means from clustering stage\n",
    "from sklearn.cluster import KMeans\n",
    "\n",
    "#!conda install -c conda-forge folium=0.5.0 --yes # uncomment this line if you haven't completed the Foursquare API lab\n",
    "import folium # map rendering library\n",
    "\n",
    "!pip install geocoder\n",
    "import geocoder"
   ]
  },
  {
   "cell_type": "markdown",
   "metadata": {},
   "source": [
    "### read the table which created in last task"
   ]
  },
  {
   "cell_type": "code",
   "execution_count": 4,
   "metadata": {},
   "outputs": [],
   "source": [
    "data = pd.read_csv(\"Table_with_coords.csv\")"
   ]
  },
  {
   "cell_type": "markdown",
   "metadata": {},
   "source": [
    "### filter boroughs that contain the word Toronto"
   ]
  },
  {
   "cell_type": "code",
   "execution_count": 11,
   "metadata": {},
   "outputs": [],
   "source": [
    "last = data[data['Borough'].str.contains('Toronto')]"
   ]
  },
  {
   "cell_type": "markdown",
   "metadata": {},
   "source": [
    "### cleaning the table a little"
   ]
  },
  {
   "cell_type": "code",
   "execution_count": 12,
   "metadata": {},
   "outputs": [],
   "source": [
    "last = last.reset_index().drop(\"index\", axis=1)"
   ]
  },
  {
   "cell_type": "code",
   "execution_count": 14,
   "metadata": {},
   "outputs": [
    {
     "data": {
      "text/html": [
       "<div>\n",
       "<style scoped>\n",
       "    .dataframe tbody tr th:only-of-type {\n",
       "        vertical-align: middle;\n",
       "    }\n",
       "\n",
       "    .dataframe tbody tr th {\n",
       "        vertical-align: top;\n",
       "    }\n",
       "\n",
       "    .dataframe thead th {\n",
       "        text-align: right;\n",
       "    }\n",
       "</style>\n",
       "<table border=\"1\" class=\"dataframe\">\n",
       "  <thead>\n",
       "    <tr style=\"text-align: right;\">\n",
       "      <th></th>\n",
       "      <th>Unnamed: 0</th>\n",
       "      <th>Postal Code</th>\n",
       "      <th>Borough</th>\n",
       "      <th>Neighborhood</th>\n",
       "      <th>Latitude</th>\n",
       "      <th>Longitude</th>\n",
       "    </tr>\n",
       "  </thead>\n",
       "  <tbody>\n",
       "    <tr>\n",
       "      <th>0</th>\n",
       "      <td>2</td>\n",
       "      <td>M5A</td>\n",
       "      <td>Downtown Toronto</td>\n",
       "      <td>Regent Park, Harbourfront</td>\n",
       "      <td>43.654260</td>\n",
       "      <td>-79.360636</td>\n",
       "    </tr>\n",
       "    <tr>\n",
       "      <th>1</th>\n",
       "      <td>4</td>\n",
       "      <td>M7A</td>\n",
       "      <td>Downtown Toronto</td>\n",
       "      <td>Queen's Park, Ontario Provincial Government</td>\n",
       "      <td>43.662301</td>\n",
       "      <td>-79.389494</td>\n",
       "    </tr>\n",
       "    <tr>\n",
       "      <th>2</th>\n",
       "      <td>9</td>\n",
       "      <td>M5B</td>\n",
       "      <td>Downtown Toronto</td>\n",
       "      <td>Garden District, Ryerson</td>\n",
       "      <td>43.657162</td>\n",
       "      <td>-79.378937</td>\n",
       "    </tr>\n",
       "    <tr>\n",
       "      <th>3</th>\n",
       "      <td>15</td>\n",
       "      <td>M5C</td>\n",
       "      <td>Downtown Toronto</td>\n",
       "      <td>St. James Town</td>\n",
       "      <td>43.651494</td>\n",
       "      <td>-79.375418</td>\n",
       "    </tr>\n",
       "    <tr>\n",
       "      <th>4</th>\n",
       "      <td>19</td>\n",
       "      <td>M4E</td>\n",
       "      <td>East Toronto</td>\n",
       "      <td>The Beaches</td>\n",
       "      <td>43.676357</td>\n",
       "      <td>-79.293031</td>\n",
       "    </tr>\n",
       "  </tbody>\n",
       "</table>\n",
       "</div>"
      ],
      "text/plain": [
       "   Unnamed: 0 Postal Code           Borough  \\\n",
       "0           2         M5A  Downtown Toronto   \n",
       "1           4         M7A  Downtown Toronto   \n",
       "2           9         M5B  Downtown Toronto   \n",
       "3          15         M5C  Downtown Toronto   \n",
       "4          19         M4E      East Toronto   \n",
       "\n",
       "                                  Neighborhood   Latitude  Longitude  \n",
       "0                    Regent Park, Harbourfront  43.654260 -79.360636  \n",
       "1  Queen's Park, Ontario Provincial Government  43.662301 -79.389494  \n",
       "2                     Garden District, Ryerson  43.657162 -79.378937  \n",
       "3                               St. James Town  43.651494 -79.375418  \n",
       "4                                  The Beaches  43.676357 -79.293031  "
      ]
     },
     "execution_count": 14,
     "metadata": {},
     "output_type": "execute_result"
    }
   ],
   "source": [
    "last.head()"
   ]
  },
  {
   "cell_type": "code",
   "execution_count": 17,
   "metadata": {},
   "outputs": [],
   "source": [
    "last.drop(last.columns[[0]], axis = 1, inplace=True)"
   ]
  },
  {
   "cell_type": "code",
   "execution_count": 18,
   "metadata": {},
   "outputs": [
    {
     "data": {
      "text/html": [
       "<div>\n",
       "<style scoped>\n",
       "    .dataframe tbody tr th:only-of-type {\n",
       "        vertical-align: middle;\n",
       "    }\n",
       "\n",
       "    .dataframe tbody tr th {\n",
       "        vertical-align: top;\n",
       "    }\n",
       "\n",
       "    .dataframe thead th {\n",
       "        text-align: right;\n",
       "    }\n",
       "</style>\n",
       "<table border=\"1\" class=\"dataframe\">\n",
       "  <thead>\n",
       "    <tr style=\"text-align: right;\">\n",
       "      <th></th>\n",
       "      <th>Postal Code</th>\n",
       "      <th>Borough</th>\n",
       "      <th>Neighborhood</th>\n",
       "      <th>Latitude</th>\n",
       "      <th>Longitude</th>\n",
       "    </tr>\n",
       "  </thead>\n",
       "  <tbody>\n",
       "    <tr>\n",
       "      <th>0</th>\n",
       "      <td>M5A</td>\n",
       "      <td>Downtown Toronto</td>\n",
       "      <td>Regent Park, Harbourfront</td>\n",
       "      <td>43.654260</td>\n",
       "      <td>-79.360636</td>\n",
       "    </tr>\n",
       "    <tr>\n",
       "      <th>1</th>\n",
       "      <td>M7A</td>\n",
       "      <td>Downtown Toronto</td>\n",
       "      <td>Queen's Park, Ontario Provincial Government</td>\n",
       "      <td>43.662301</td>\n",
       "      <td>-79.389494</td>\n",
       "    </tr>\n",
       "    <tr>\n",
       "      <th>2</th>\n",
       "      <td>M5B</td>\n",
       "      <td>Downtown Toronto</td>\n",
       "      <td>Garden District, Ryerson</td>\n",
       "      <td>43.657162</td>\n",
       "      <td>-79.378937</td>\n",
       "    </tr>\n",
       "    <tr>\n",
       "      <th>3</th>\n",
       "      <td>M5C</td>\n",
       "      <td>Downtown Toronto</td>\n",
       "      <td>St. James Town</td>\n",
       "      <td>43.651494</td>\n",
       "      <td>-79.375418</td>\n",
       "    </tr>\n",
       "    <tr>\n",
       "      <th>4</th>\n",
       "      <td>M4E</td>\n",
       "      <td>East Toronto</td>\n",
       "      <td>The Beaches</td>\n",
       "      <td>43.676357</td>\n",
       "      <td>-79.293031</td>\n",
       "    </tr>\n",
       "  </tbody>\n",
       "</table>\n",
       "</div>"
      ],
      "text/plain": [
       "  Postal Code           Borough                                 Neighborhood  \\\n",
       "0         M5A  Downtown Toronto                    Regent Park, Harbourfront   \n",
       "1         M7A  Downtown Toronto  Queen's Park, Ontario Provincial Government   \n",
       "2         M5B  Downtown Toronto                     Garden District, Ryerson   \n",
       "3         M5C  Downtown Toronto                               St. James Town   \n",
       "4         M4E      East Toronto                                  The Beaches   \n",
       "\n",
       "    Latitude  Longitude  \n",
       "0  43.654260 -79.360636  \n",
       "1  43.662301 -79.389494  \n",
       "2  43.657162 -79.378937  \n",
       "3  43.651494 -79.375418  \n",
       "4  43.676357 -79.293031  "
      ]
     },
     "execution_count": 18,
     "metadata": {},
     "output_type": "execute_result"
    }
   ],
   "source": [
    "last.head()"
   ]
  },
  {
   "cell_type": "markdown",
   "metadata": {},
   "source": [
    "### cluster the boroughs using k-means into 4 clusters and visualising it using folium"
   ]
  },
  {
   "cell_type": "code",
   "execution_count": 20,
   "metadata": {},
   "outputs": [
    {
     "data": {
      "text/html": [
       "<div style=\"width:100%;\"><div style=\"position:relative;width:100%;height:0;padding-bottom:60%;\"><span style=\"color:#565656\">Make this Notebook Trusted to load map: File -> Trust Notebook</span><iframe src=\"about:blank\" style=\"position:absolute;width:100%;height:100%;left:0;top:0;border:none !important;\" data-html=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 onload=\"this.contentDocument.open();this.contentDocument.write(atob(this.getAttribute('data-html')));this.contentDocument.close();\" allowfullscreen webkitallowfullscreen mozallowfullscreen></iframe></div></div>"
      ],
      "text/plain": [
       "<folium.folium.Map at 0x19021407c08>"
      ]
     },
     "execution_count": 20,
     "metadata": {},
     "output_type": "execute_result"
    }
   ],
   "source": [
    "toronto_map = folium.Map(location=[43.65, -79.4], zoom_start=12)\n",
    "\n",
    "X = last['Latitude']\n",
    "Y = last['Longitude']\n",
    "Z = np.stack((X, Y), axis=1)\n",
    "\n",
    "kmeans = KMeans(n_clusters=4, random_state=0).fit(Z)\n",
    "\n",
    "clusters = kmeans.labels_\n",
    "colors = ['red', 'green', 'blue', 'yellow']\n",
    "last['Cluster'] = clusters\n",
    "\n",
    "for latitude, longitude, borough, cluster in zip(last['Latitude'], last['Longitude'], last['Borough'], last['Cluster']):\n",
    "    label = folium.Popup(borough, parse_html=True)\n",
    "    folium.CircleMarker(\n",
    "        [latitude, longitude],\n",
    "        radius=5,\n",
    "        popup=label,\n",
    "        color='black',\n",
    "        fill=True,\n",
    "        fill_color=colors[cluster],\n",
    "        fill_opacity=0.7).add_to(toronto_map)  \n",
    "\n",
    "toronto_map"
   ]
  },
  {
   "cell_type": "code",
   "execution_count": null,
   "metadata": {},
   "outputs": [],
   "source": []
  }
 ],
 "metadata": {
  "kernelspec": {
   "display_name": "Python 3",
   "language": "python",
   "name": "python3"
  },
  "language_info": {
   "codemirror_mode": {
    "name": "ipython",
    "version": 3
   },
   "file_extension": ".py",
   "mimetype": "text/x-python",
   "name": "python",
   "nbconvert_exporter": "python",
   "pygments_lexer": "ipython3",
   "version": "3.7.6"
  }
 },
 "nbformat": 4,
 "nbformat_minor": 4
}
